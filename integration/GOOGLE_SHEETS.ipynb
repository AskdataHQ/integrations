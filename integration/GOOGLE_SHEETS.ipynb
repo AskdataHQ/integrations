{
 "cells": [
  {
   "cell_type": "code",
   "execution_count": null,
   "metadata": {},
   "outputs": [],
   "source": [
    "# libraries\n",
    "!pip install gspread\n",
    "\n",
    "!pip install askdata\n",
    "\n",
    "from askdata import *"
   ]
  },
  {
   "cell_type": "code",
   "execution_count": null,
   "metadata": {},
   "outputs": [],
   "source": [
    "#params\n",
    "params = receive_parameter(params={})\n",
    "print(params)\n",
    "# spredsheet key - Add this email to your GSheet askdata-google-analytics@askdata.iam.gserviceaccount.com to grant security\n",
    "sheet_url = params[\"sheets_url\"]\n",
    "credentials = params[\"credentials\"]\n",
    "\n",
    "_LOG_FORMAT = \"[%(filename)s:%(lineno)s - %(funcName)20s() ] - %(asctime)s --> %(message)s\"\n",
    "g_logger = logging.getLogger()\n",
    "logging.basicConfig(format=_LOG_FORMAT)\n",
    "g_logger.setLevel(logging.INFO)"
   ]
  },
  {
   "cell_type": "code",
   "execution_count": null,
   "metadata": {},
   "outputs": [],
   "source": [
    "#askdata = Askdata( env='dev', token=token)\n",
    "\n",
    "import gspread\n",
    "import pandas as pd\n",
    "gc = gspread.service_account(filename=credentials)\n",
    "\n",
    "# Open a sheet from a spreadsheet in one go\n",
    "wks = gc.open_by_url(sheet_url).sheet1\n",
    "\n",
    "data = wks.get_all_values()\n",
    "headers = data.pop(0)\n",
    "\n",
    "df = pd.DataFrame(data, columns=headers)\n",
    "if(\"\" in df.columns.tolist()):\n",
    "    df = df.drop(columns='')\n",
    "i = 0\n",
    "columns = df.columns.tolist()\n",
    "for column in columns:\n",
    "    if(columns.count(column)>1):\n",
    "        columns.remove(column)\n",
    "        column+=\"_2\"\n",
    "        columns.insert(i, column)\n",
    "    columns.remove(column)\n",
    "    column=column.strip()\n",
    "    columns.insert(i, column)\n",
    "    i+=1\n",
    "df.columns=columns"
   ]
  },
  {
   "cell_type": "code",
   "execution_count": null,
   "metadata": {},
   "outputs": [],
   "source": [
    "#df.replace(to_replace={\"Valore\": \",00 €\"}, value=\"\", regex=True, inplace=True)\n",
    "#df.replace(to_replace={\"Valore\": '\\\\.'}, value=\"\", regex=True, inplace=True)\n",
    "#df = df.astype({\"Valore\":\"int64\"})\n",
    "import re\n",
    "for i in range(wks.col_count):\n",
    "    try:\n",
    "        unformatted = wks.col_values(i, value_render_option='UNFORMATTED_VALUE')\n",
    "        if(len(unformatted)==0):\n",
    "            continue\n",
    "        formatted = wks.col_values(i, value_render_option='FORMATTED_VALUE')\n",
    "        if(formatted == unformatted):\n",
    "            continue\n",
    "        else:\n",
    "            temp_unformatted = unformatted[1:]\n",
    "            temp_formatted = formatted[1:]\n",
    "            first_type = []\n",
    "            other_types = []\n",
    "            for record in temp_unformatted:\n",
    "                if(len(first_type)==0):\n",
    "                    first_type.append(type(record))\n",
    "                if(type(record)==first_type[0]):\n",
    "                    first_type.append(type(record))\n",
    "                else:\n",
    "                    other_types.append(type(record))\n",
    "            if(len(other_types)!=0):\n",
    "                df[formatted[0]] = temp_formatted\n",
    "            else:\n",
    "                is_currency = False\n",
    "                is_date = False\n",
    "                for record in temp_formatted:\n",
    "                    is_currency = re.search(\"[.,$€]\", record)\n",
    "                if(is_currency):\n",
    "                    df[formatted[0]] = temp_unformatted\n",
    "                else:\n",
    "                    new_cols = []\n",
    "                    for record in temp_formatted:\n",
    "                        new_cols.append(pd.to_datetime(record))\n",
    "                    df[formatted[0]] = temp_formatted            \n",
    "    except Exception as e:\n",
    "        print(e)\n",
    "        pass\n",
    "\n",
    "columnsSteps=[]\n",
    "columnsSteps.append(df.columns.tolist())"
   ]
  }
 ],
 "metadata": {
  "kernelspec": {
   "display_name": "Python 3",
   "language": "python",
   "name": "python3"
  },
  "language_info": {
   "codemirror_mode": {
    "name": "ipython",
    "version": 3
   },
   "file_extension": ".py",
   "mimetype": "text/x-python",
   "name": "python",
   "nbconvert_exporter": "python",
   "pygments_lexer": "ipython3",
   "version": "3.8.3"
  }
 },
 "nbformat": 4,
 "nbformat_minor": 4
}
